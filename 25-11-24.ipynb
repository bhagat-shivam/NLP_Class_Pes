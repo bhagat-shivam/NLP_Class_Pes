{
 "cells": [
  {
   "cell_type": "code",
   "execution_count": 27,
   "metadata": {},
   "outputs": [],
   "source": [
    "import spacy"
   ]
  },
  {
   "cell_type": "code",
   "execution_count": 28,
   "metadata": {},
   "outputs": [
    {
     "name": "stdout",
     "output_type": "stream",
     "text": [
      "Hello\n",
      "world!its\n",
      "shivam\n",
      "here\n",
      "nice\n",
      "to\n",
      "meet\n",
      "you\n"
     ]
    }
   ],
   "source": [
    "nlp = spacy.blank(\"en\")\n",
    "doc = nlp(\"Hello world!its shivam here nice to meet you\")\n",
    "\n",
    "for token in doc:\n",
    "    print(token.text)\n",
    "# print(doc.text)"
   ]
  },
  {
   "cell_type": "code",
   "execution_count": 29,
   "metadata": {},
   "outputs": [
    {
     "data": {
      "text/plain": [
       "spacy.lang.en.English"
      ]
     },
     "execution_count": 29,
     "metadata": {},
     "output_type": "execute_result"
    }
   ],
   "source": [
    "type(nlp)"
   ]
  },
  {
   "cell_type": "code",
   "execution_count": 30,
   "metadata": {},
   "outputs": [
    {
     "data": {
      "text/plain": [
       "spacy.tokens.doc.Doc"
      ]
     },
     "execution_count": 30,
     "metadata": {},
     "output_type": "execute_result"
    }
   ],
   "source": [
    "type(doc)"
   ]
  },
  {
   "cell_type": "code",
   "execution_count": 31,
   "metadata": {},
   "outputs": [
    {
     "data": {
      "text/plain": [
       "spacy.tokens.token.Token"
      ]
     },
     "execution_count": 31,
     "metadata": {},
     "output_type": "execute_result"
    }
   ],
   "source": [
    "type(token)"
   ]
  },
  {
   "cell_type": "code",
   "execution_count": 32,
   "metadata": {},
   "outputs": [
    {
     "name": "stdout",
     "output_type": "stream",
     "text": [
      "['shivam', '@gmail', '.com']\n"
     ]
    }
   ],
   "source": [
    "import spacy\n",
    "import re \n",
    "\n",
    "npl = spacy.blank(\"en\")\n",
    "email = \"shivam@gmail.com\"\n",
    "token = re.findall(r'\\w+|@\\w+|\\.\\w+', email) #\\w+ matches any word character (equal to [a-zA-Z0-9_])\n",
    "\n",
    "print(token)"
   ]
  },
  {
   "cell_type": "code",
   "execution_count": 33,
   "metadata": {},
   "outputs": [
    {
     "name": "stdout",
     "output_type": "stream",
     "text": [
      "['abc', '123', 'def', '456']\n"
     ]
    }
   ],
   "source": [
    "input_text = \"abc123def456\"\n",
    "\n",
    "doc = nlp(input_text)\n",
    "\n",
    "tokens = []\n",
    "\n",
    "for token in doc:\n",
    "    parts = re.findall(r'[A-Za-z]+|[0-9]+', token.text) #\\w+ matches any word character (equal to [a-zA-Z0-9_])\n",
    "    tokens.extend(parts) #\\w+ matches any word character (equal to [a-zA-Z0-9_])\n",
    "\n",
    "print(tokens)"
   ]
  },
  {
   "cell_type": "code",
   "execution_count": 34,
   "metadata": {},
   "outputs": [],
   "source": [
    "from nltk import CFG, download"
   ]
  },
  {
   "cell_type": "code",
   "execution_count": 35,
   "metadata": {},
   "outputs": [],
   "source": [
    "from nltk.parse import ChartParser"
   ]
  },
  {
   "cell_type": "code",
   "execution_count": 36,
   "metadata": {},
   "outputs": [],
   "source": [
    "from nltk.tree import Tree"
   ]
  },
  {
   "cell_type": "code",
   "execution_count": 37,
   "metadata": {},
   "outputs": [
    {
     "name": "stderr",
     "output_type": "stream",
     "text": [
      "[nltk_data] Downloading package punkt to\n",
      "[nltk_data]     C:\\Users\\shiva\\AppData\\Roaming\\nltk_data...\n",
      "[nltk_data]   Package punkt is already up-to-date!\n"
     ]
    },
    {
     "data": {
      "text/plain": [
       "True"
      ]
     },
     "execution_count": 37,
     "metadata": {},
     "output_type": "execute_result"
    }
   ],
   "source": [
    "download('punkt')"
   ]
  },
  {
   "cell_type": "markdown",
   "metadata": {},
   "source": [
    "    DATE : 26 - 11 - 2024"
   ]
  },
  {
   "cell_type": "code",
   "execution_count": 7,
   "metadata": {},
   "outputs": [],
   "source": [
    "from nltk import CFG\n",
    "from nltk.parse.chart import ChartParser\n",
    "\n",
    "# Define the grammar\n",
    "grammar = CFG.fromstring(\"\"\"\n",
    "S -> NP VP\n",
    "NP -> DT N | DT Adj N | PRP | N\n",
    "VP -> V NP | V PP\n",
    "V -> 'saw' | 'ate'\n",
    "DT -> 'the' | 'a'\n",
    "N -> 'dog' | 'cat' | 'telescope'\n",
    "Adj -> 'big' | 'small'\n",
    "PRP -> 'I' | 'he' | 'she'\n",
    "PP -> P NP\n",
    "P -> 'over' | 'under' | 'on' | 'with' | 'by' | 'near'\n",
    "\"\"\")\n",
    "\n",
    "# Create the parser\n",
    "parser = ChartParser(grammar)\n",
    "\n",
    "# print(\"Enter sentence: \")\n",
    "# sentence = input().lower().split()\n",
    "\n",
    "tokens = ['the', 'dog', 'saw', 'a', 'cat']\n",
    "\n",
    "# # Parse the sentence\n",
    "for tree in parser.parse(sentence):\n",
    "    print(tree)\n",
    "\n"
   ]
  },
  {
   "cell_type": "code",
   "execution_count": 9,
   "metadata": {},
   "outputs": [
    {
     "name": "stdout",
     "output_type": "stream",
     "text": [
      "<class 'nltk.tree.tree.Tree'>\n",
      "             S             \n",
      "      _______|___           \n",
      "     |           VP        \n",
      "     |        ___|___       \n",
      "     NP      |       NP    \n",
      "  ___|___    |    ___|___   \n",
      " DT      N   V   DT      N \n",
      " |       |   |   |       |  \n",
      "the     dog saw  a      cat\n",
      "\n"
     ]
    },
    {
     "ename": "NameError",
     "evalue": "name 'plt' is not defined",
     "output_type": "error",
     "traceback": [
      "\u001b[1;31m---------------------------------------------------------------------------\u001b[0m",
      "\u001b[1;31mNameError\u001b[0m                                 Traceback (most recent call last)",
      "Cell \u001b[1;32mIn[9], line 19\u001b[0m\n\u001b[0;32m     17\u001b[0m     \u001b[38;5;28mprint\u001b[39m(Tree)\n\u001b[0;32m     18\u001b[0m     tree\u001b[38;5;241m.\u001b[39mpretty_print()\n\u001b[1;32m---> 19\u001b[0m     \u001b[43msave_tree_as_image\u001b[49m\u001b[43m(\u001b[49m\u001b[43mtree\u001b[49m\u001b[43m,\u001b[49m\u001b[43m \u001b[49m\u001b[38;5;124;43m\"\u001b[39;49m\u001b[38;5;124;43mparsed_tree.png\u001b[39;49m\u001b[38;5;124;43m\"\u001b[39;49m\u001b[43m)\u001b[49m\n\u001b[0;32m     21\u001b[0m \u001b[38;5;28;01mif\u001b[39;00m \u001b[38;5;129;01mnot\u001b[39;00m parsed:\n\u001b[0;32m     22\u001b[0m     \u001b[38;5;28mprint\u001b[39m(\u001b[38;5;124m\"\u001b[39m\u001b[38;5;124mNo parse found.\u001b[39m\u001b[38;5;124m\"\u001b[39m)\n",
      "Cell \u001b[1;32mIn[9], line 7\u001b[0m, in \u001b[0;36msave_tree_as_image\u001b[1;34m(tree, filename)\u001b[0m\n\u001b[0;32m      3\u001b[0m \u001b[38;5;28;01mdef\u001b[39;00m \u001b[38;5;21msave_tree_as_image\u001b[39m(tree, filename\u001b[38;5;241m=\u001b[39m\u001b[38;5;124m'\u001b[39m\u001b[38;5;124mparse_tree.png\u001b[39m\u001b[38;5;124m'\u001b[39m):\n\u001b[0;32m      4\u001b[0m \u001b[38;5;250m    \u001b[39m\u001b[38;5;124;03m\"\"\"\u001b[39;00m\n\u001b[0;32m      5\u001b[0m \u001b[38;5;124;03m    \"\"\"\u001b[39;00m\n\u001b[1;32m----> 7\u001b[0m     fig \u001b[38;5;241m=\u001b[39m \u001b[43mplt\u001b[49m\u001b[38;5;241m.\u001b[39mfigure(figsize\u001b[38;5;241m=\u001b[39m(\u001b[38;5;241m12\u001b[39m, \u001b[38;5;241m6\u001b[39m))\n\u001b[0;32m      8\u001b[0m     ax \u001b[38;5;241m=\u001b[39m fig\u001b[38;5;241m.\u001b[39madd_subplot(\u001b[38;5;241m111\u001b[39m)\n\u001b[0;32m      9\u001b[0m     ax\u001b[38;5;241m.\u001b[39maxis(OFF)\n",
      "\u001b[1;31mNameError\u001b[0m: name 'plt' is not defined"
     ]
    }
   ],
   "source": [
    "from nltk.tree import Tree \n",
    "\n",
    "def save_tree_as_image(tree, filename='parse_tree.png'):\n",
    "    \"\"\"\n",
    "    \"\"\"\n",
    "\n",
    "    fig = plt.figure(figsize=(12, 6))\n",
    "    ax = fig.add_subplot(111)\n",
    "    ax.axis(OFF)\n",
    "    tree.draw(ax=ax)\n",
    "    plt.saveifg(filename,format='png',bbox_inches='tight')\n",
    "    plt.close(fig)\n",
    "    print(f\"Parse tree saved as {filename}\")\n",
    "\n",
    "for tree in parser.parse(tokens):\n",
    "    parsed = True\n",
    "    print(Tree)\n",
    "    tree.pretty_print()\n",
    "    save_tree_as_image(tree, \"parsed_tree.png\")\n",
    "\n",
    "if not parsed:\n",
    "    print(\"No parse found.\")\n"
   ]
  },
  {
   "cell_type": "markdown",
   "metadata": {},
   "source": [
    "                                    NOTES"
   ]
  },
  {
   "cell_type": "markdown",
   "metadata": {},
   "source": [
    "Open-Class Words:\n",
    "- Open-class words are the total lexical categories that frequenetly add \n",
    "- They primarily carry the content or meaning of a sentence.\n",
    "\n",
    "Categories:\n",
    "1) Nouns (NN, NNP, NNS, NNPS): \n",
    "    - Represent people, places, objects, or ideas\n",
    "    - Eg: dog, computer happiness, John\n",
    "\n",
    "2) Verbs (VB, VBD, VBG, VBP, VBZ):\n",
    "    - Indicate actions, states or occurences\n",
    "    - Eg: run, believe, singing , was\n",
    "\n",
    "3) Adjectives(JJ, JJR, JJS):\n",
    "    - Describe or modify nouns.\n",
    "    - Eg: beautiful, quicker, most interesting\n",
    "\n",
    "4) Adverbs(RR, RBR, RBS): \n",
    "    - Modify verbs, adjectives or other adverbs\n",
    "    - Eg: quickly, more quickly, most quickly\n",
    "\n",
    "NN: noun, singular or mass\n",
    "Example: dog, computer, happiness\n",
    "NNS: Noun, plural\n",
    "Example: dogs, computer\n",
    "NNP: Proper noun, singular\n",
    "Example:\n",
    "NNPS: Proper noun, plural\n",
    "Example, Smiths, Rockies, Oscars\n",
    "\n",
    "\n",
    "VB: Base form\n",
    "Example: run, jump, eat\n",
    "VBD: past tense\n",
    "Example: ran, jumped, ate\n",
    "VBG: Gerund or present participle\n",
    "Example: running, jumping, eating\n",
    "VBN: Past participle\n",
    "Example: run, jumped, eaten\n",
    "VBP: Present tense, non-3rd person singular\n",
    "Example: run, jump, eat (I/you/wee/they run)\n",
    "VBZ: Present tense, 3rd person singular\n",
    "Example: runs, jumps, eats (he/sh/it jumps)\n",
    "\n",
    "JJ: Adjectives\n",
    "Example: quick, blue, large\n",
    "JJR: Adjective, comparative\n",
    "Example: quicker, bluer, larger\n",
    "JJS: Adjective, superlative\n",
    "Example: quickest, bluest, largest\n",
    "\n",
    "\n",
    "RB: Adverb\n",
    "Example: quickly, softly, very\n",
    "RBR: Adverb, comparative\n",
    "Example: more quickly, faster\n",
    "RBS: Adverbds, superlative\n",
    "Example: most quickly, fastest\n",
    "\n",
    "\n",
    "-> Closed-class words:\n",
    "    - Grammtical categories that rarely add new words.\n",
    "    - Perform structural roles in a sentence \n",
    "\n",
    "Determiners: DT: Determinator Example: the, an, a, these, every\n",
    "\n",
    "Pronouns PRP: Personal pronoun Example: I, you, they, we, he, she, it PRP$: Possessive pronoun Example: my, your, his, her, its, our, their\n",
    "\n",
    "Prepositions: IN: Preposition or Subordinating conjunction Example: in, on, at, with, about, because\n",
    "\n",
    "Conjunctions: CC: Coordinating conjunctions Example: and, but, or, yet, for, so\n",
    "\n",
    "Auxiliary Verbs: MD: Modal auxiliary Example: can, could, may, might, will, shall, should, must RP: Particle Example: up, off, out (pick-up, turn off)\n",
    "\n",
    "Infinitive marker: TO: 'to' as an infinitive marker Example: to eat, to run"
   ]
  },
  {
   "cell_type": "markdown",
   "metadata": {},
   "source": [
    "EXERCISE:\n",
    "\n",
    "Identify the part of speech (POS) for each word in the following sentence and classify them as open-class or closed-class words:\n",
    "\n",
    "Sentence:\n",
    "\"She happily carried a small basket to the market.\"\n",
    "\n",
    "1) Write down the POS for each word in the sentence.\n",
    "2) Separate the words into open-class and closed-class categories.\n",
    "3) Provide reasoning for why each word belongs to its respective category.\n",
    "\n",
    "Sentence: The quick brown fox jumps over the lazy dog.\n",
    "\n",
    "Tags:\n",
    "- The (DT Determiner) Closed-Class\n",
    "- quick (JJ Adjective) Open-Class\n",
    "- brown (JJ Adjective) Open-Class\n",
    "- fox (NN Noun) Open-Class\n",
    "- jumps (VBZ Verb) Open-Class\n",
    "- over (IN Preposition) Closed-Class\n",
    "- the (DT Determiner) Closed-Class\n",
    "- lazy (JJ Adjective) Open-Class\n",
    "- dog (NN Noun) Open-Class\n",
    "\n",
    "SOLUTION:\n",
    "Part of Speech (POS) and Classification:\n",
    "- She (PRP): Personal pronoun, Closed-class\n",
    "- happily (RB): Adverb, Open-class\n",
    "- carried (VBD): Verb (past tense), Open-class\n",
    "- a (DT): Determiner, Closed-class\n",
    "- small (JJ): Adjective, Open-class\n",
    "- basket (NN): Noun, Open-class\n",
    "- to (IN): Preposition, Closed-class\n",
    "- the (DT): Determiner, Closed-class\n",
    "- market (NN): Noun, Open-class\n",
    "\n",
    "Reasoning:\n",
    "Closed-class words: These are function words that have a grammatical role and do not carry significant lexical meaning. They include determiners, prepositions, conjunctions, auxiliary verbs, and pronouns.\n",
    "Open-class words: These are content words that carry the primary meaning of a sentence. They include nouns, verbs, adjectives, and adverbs.\n",
    "Therefore, in the given sentence, the words \"She,\" \"a,\" \"to,\" and \"the\" are closed-class words, while the other words are open-class words.\n",
    "\n",
    "- Open Class Words: ['happily', 'carried', 'small', 'basket', 'market']\n",
    "- Closed Class Words: ['She', '.']\n",
    "\n",
    "- Tokenized: ['She', 'happily', 'carried', 'a', 'small', 'basket', 'to', 'the', 'market', '.']\n",
    "- Filtered: ['She', 'happily', 'carried', 'small', 'basket', 'market', '.']\n",
    "- Stemmed: ['she', 'happili', 'carri', 'small', 'basket', 'market', '.']\n",
    "- Lemmatized: ['She', 'happily', 'carried', 'small', 'basket', 'market', '.']\n",
    "- POS-tagged: [('She', 'PRP'), ('happily', 'RB'), ('carried', 'VBD'), ('small', 'JJ'), ('basket', 'NN'), ('market', 'NN'), ('.', '.')]"
   ]
  }
 ],
 "metadata": {
  "kernelspec": {
   "display_name": "Python 3",
   "language": "python",
   "name": "python3"
  },
  "language_info": {
   "codemirror_mode": {
    "name": "ipython",
    "version": 3
   },
   "file_extension": ".py",
   "mimetype": "text/x-python",
   "name": "python",
   "nbconvert_exporter": "python",
   "pygments_lexer": "ipython3",
   "version": "3.12.5"
  }
 },
 "nbformat": 4,
 "nbformat_minor": 2
}
