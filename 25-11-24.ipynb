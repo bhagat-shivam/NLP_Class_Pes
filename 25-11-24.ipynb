{
 "cells": [
  {
   "cell_type": "code",
   "execution_count": 3,
   "metadata": {},
   "outputs": [],
   "source": [
    "import spacy"
   ]
  },
  {
   "cell_type": "code",
   "execution_count": null,
   "metadata": {},
   "outputs": [
    {
     "name": "stdout",
     "output_type": "stream",
     "text": [
      "Hello\n",
      ",\n",
      "world\n",
      "!\n",
      ",\n",
      "its\n",
      "shivam\n",
      "here\n",
      "nice\n",
      "to\n",
      "meet\n",
      "you\n"
     ]
    }
   ],
   "source": [
    "nlp = spacy.blank(\"en\")\n",
    "doc = nlp(\"Hello world!its shivam here nice to meet you\")\n",
    "\n",
    "for token in doc:\n",
    "    print(token.text)\n",
    "# print(doc.text)"
   ]
  },
  {
   "cell_type": "code",
   "execution_count": 9,
   "metadata": {},
   "outputs": [
    {
     "data": {
      "text/plain": [
       "spacy.lang.en.English"
      ]
     },
     "execution_count": 9,
     "metadata": {},
     "output_type": "execute_result"
    }
   ],
   "source": [
    "type(nlp)"
   ]
  },
  {
   "cell_type": "code",
   "execution_count": 10,
   "metadata": {},
   "outputs": [
    {
     "data": {
      "text/plain": [
       "spacy.tokens.doc.Doc"
      ]
     },
     "execution_count": 10,
     "metadata": {},
     "output_type": "execute_result"
    }
   ],
   "source": [
    "type(doc)"
   ]
  },
  {
   "cell_type": "code",
   "execution_count": 11,
   "metadata": {},
   "outputs": [
    {
     "data": {
      "text/plain": [
       "spacy.tokens.token.Token"
      ]
     },
     "execution_count": 11,
     "metadata": {},
     "output_type": "execute_result"
    }
   ],
   "source": [
    "type(token)"
   ]
  },
  {
   "cell_type": "code",
   "execution_count": null,
   "metadata": {},
   "outputs": [
    {
     "name": "stdout",
     "output_type": "stream",
     "text": [
      "['shivam', '@gmail', '.com']\n"
     ]
    }
   ],
   "source": [
    "import spacy\n",
    "import re \n",
    "\n",
    "npl = spacy.blank(\"en\")\n",
    "email = \"shivam@gmail.com\"\n",
    "token = re.findall(r'\\w+|@\\w+|\\.\\w+', email) #\\w+ matches any word character (equal to [a-zA-Z0-9_])\n",
    "\n",
    "print(token)"
   ]
  },
  {
   "cell_type": "code",
   "execution_count": null,
   "metadata": {},
   "outputs": [
    {
     "name": "stdout",
     "output_type": "stream",
     "text": [
      "['abc', '123', 'def', '456']\n"
     ]
    }
   ],
   "source": [
    "input_text = \"abc123def456\"\n",
    "\n",
    "doc = nlp(input_text)\n",
    "\n",
    "tokens = []\n",
    "\n",
    "for token in doc:\n",
    "    parts = re.findall(r'[A-Za-z]+|[0-9]+', token.text) #\\w+ matches any word character (equal to [a-zA-Z0-9_])\n",
    "    tokens.extend(parts) #\\w+ matches any word character (equal to [a-zA-Z0-9_])\n",
    "\n",
    "print(tokens)"
   ]
  },
  {
   "cell_type": "code",
   "execution_count": null,
   "metadata": {},
   "outputs": [],
   "source": []
  }
 ],
 "metadata": {
  "kernelspec": {
   "display_name": "Python 3",
   "language": "python",
   "name": "python3"
  },
  "language_info": {
   "codemirror_mode": {
    "name": "ipython",
    "version": 3
   },
   "file_extension": ".py",
   "mimetype": "text/x-python",
   "name": "python",
   "nbconvert_exporter": "python",
   "pygments_lexer": "ipython3",
   "version": "3.12.5"
  }
 },
 "nbformat": 4,
 "nbformat_minor": 2
}
